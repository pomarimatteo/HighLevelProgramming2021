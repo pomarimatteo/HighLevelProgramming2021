{
 "cells": [
  {
   "cell_type": "code",
   "execution_count": 1,
   "metadata": {},
   "outputs": [],
   "source": [
    "import pandas as pd\n",
    "import numpy as np"
   ]
  },
  {
   "cell_type": "markdown",
   "metadata": {},
   "source": [
    "1\\. Perform the following operations on plain `txt` files:\n",
    "\n",
    "+ create a list of integrer numbers and then save it to a text file named \"data_int.txt\". Run the `cat` command to print the content of the file.\n",
    "+ create a matrix of 5x5 floats and then save it to a text file named \"data_float.txt\". Use the `cat` command to print the content of the file.\n",
    "+ load the txt file of the previous point and convert it to a csv file by hand."
   ]
  },
  {
   "cell_type": "code",
   "execution_count": 2,
   "metadata": {},
   "outputs": [
    {
     "name": "stdout",
     "output_type": "stream",
     "text": [
      "Read data_int.txt\n",
      "123456\n",
      "\n",
      "Read data_float.txt\n",
      "\n",
      "\n",
      "Read data_int.txt\n",
      "123456\n"
     ]
    }
   ],
   "source": [
    "import numpy as np\n",
    "import random\n",
    "\n",
    "\n",
    "list = [1,2,3,4,5,6]\n",
    "textfile = open(\"data_int.txt\",\"w\")\n",
    "for element in list:\n",
    "    textfile.write(str(element))\n",
    "    \n",
    "print('Read data_int.txt')\n",
    "textfile.close()\n",
    "\n",
    "!cat data_int.txt\n",
    "print('\\n')\n",
    "\n",
    "\n",
    "text_file = open(\"data_float.txt\",\"w\")\n",
    "for i in range(5):\n",
    "    for j in range(5):\n",
    "        value = round(5,2)\n",
    "        text_file.write(str(value)+' ')\n",
    "    text_file.write('\\n')\n",
    "textfile.close()\n",
    "print('Read data_float.txt')\n",
    "!cat data_float.txt\n",
    "print('\\n')\n",
    "\n",
    "read_file = pd.read_csv(r'data_int.txt')\n",
    "read_file.to_csv (r'data_int.csv',index=None)\n",
    "\n",
    "print('Read data_int.txt')\n",
    "!cat data_int.csv"
   ]
  },
  {
   "cell_type": "markdown",
   "metadata": {},
   "source": [
    "2\\. Load the file *user_data.json*, which can be found at:\n",
    "\n",
    "- https://www.dropbox.com/s/sz5klcdpckc39hd/user_data.json\n",
    "\n",
    "and filter the data by the \"CreditCardType\" when it equals to \"American Express\". Than save the data to a new CSV file."
   ]
  },
  {
   "cell_type": "code",
   "execution_count": 3,
   "metadata": {},
   "outputs": [
    {
     "name": "stdout",
     "output_type": "stream",
     "text": [
      "{'ID': '2', 'JobTitle': 'Investment  Advisor', 'EmailAddress': 'Clint_Thorpe5003@bulaffy.com', 'FirstNameLastName': 'Clint Thorpe', 'CreditCard': '7083-8766-0251-2345', 'CreditCardType': 'American Express'}\r\n",
      "{'ID': '12', 'JobTitle': 'Retail Trainee', 'EmailAddress': 'Phillip_Carpenter9505@famism.biz', 'FirstNameLastName': 'Phillip Carpenter', 'CreditCard': '3657-0088-0820-5247', 'CreditCardType': 'American Express'}\r\n",
      "{'ID': '28', 'JobTitle': 'Project Manager', 'EmailAddress': 'Russel_Graves1378@extex.org', 'FirstNameLastName': 'Russel Graves', 'CreditCard': '6718-4818-8011-6024', 'CreditCardType': 'American Express'}\r\n",
      "{'ID': '39', 'JobTitle': 'Stockbroker', 'EmailAddress': 'Leanne_Newton1268@typill.biz', 'FirstNameLastName': 'Leanne Newton', 'CreditCard': '5438-0816-4166-4847', 'CreditCardType': 'American Express'}\r\n",
      "{'ID': '57', 'JobTitle': 'Budget Analyst', 'EmailAddress': 'Tony_Giles1960@iatim.tech', 'FirstNameLastName': 'Tony Giles', 'CreditCard': '8130-3425-7573-7745', 'CreditCardType': 'American Express'}\r\n",
      "{'ID': '62', 'JobTitle': 'CNC Operator', 'EmailAddress': 'Owen_Allcott5125@bauros.biz', 'FirstNameLastName': 'Owen Allcott', 'CreditCard': '4156-0107-7210-2630', 'CreditCardType': 'American Express'}\r\n",
      "{'ID': '68', 'JobTitle': 'Project Manager', 'EmailAddress': 'Liam_Lynn3280@kideod.biz', 'FirstNameLastName': 'Liam Lynn', 'CreditCard': '7152-3247-6053-2233', 'CreditCardType': 'American Express'}\r\n",
      "{'ID': '74', 'JobTitle': 'Dentist', 'EmailAddress': 'Regina_Woodcock5820@yahoo.com', 'FirstNameLastName': 'Regina Woodcock', 'CreditCard': '0208-1753-3870-8002', 'CreditCardType': 'American Express'}\r\n",
      "{'ID': '81', 'JobTitle': 'HR Specialist', 'EmailAddress': 'Carter_Wallace9614@atink.com', 'FirstNameLastName': 'Carter Wallace', 'CreditCard': '4256-7201-6717-4322', 'CreditCardType': 'American Express'}\r\n",
      "{'ID': '92', 'JobTitle': 'Staffing Consultant', 'EmailAddress': 'Maia_Stark2797@jiman.org', 'FirstNameLastName': 'Maia Stark', 'CreditCard': '3851-1403-1734-6321', 'CreditCardType': 'American Express'}\r\n",
      "{'ID': '97', 'JobTitle': 'Stockbroker', 'EmailAddress': 'Ciara_Lomax982@bauros.biz', 'FirstNameLastName': 'Ciara Lomax', 'CreditCard': '3702-3440-2472-5424', 'CreditCardType': 'American Express'}\r\n",
      "{'ID': '116', 'JobTitle': 'Staffing Consultant', 'EmailAddress': 'Isabel_Ellwood1475@fuliss.net', 'FirstNameLastName': 'Isabel Ellwood', 'CreditCard': '3738-0882-0066-6683', 'CreditCardType': 'American Express'}\r\n",
      "{'ID': '148', 'JobTitle': 'CNC Operator', 'EmailAddress': 'Abdul_Townend2202@infotech44.tech', 'FirstNameLastName': 'Abdul Townend', 'CreditCard': '4224-1226-3557-3448', 'CreditCardType': 'American Express'}\r\n",
      "{'ID': '150', 'JobTitle': 'Fabricator', 'EmailAddress': 'Caleb_Poulton1735@atink.com', 'FirstNameLastName': 'Caleb Poulton', 'CreditCard': '8203-6875-5225-0341', 'CreditCardType': 'American Express'}\r\n",
      "{'ID': '151', 'JobTitle': 'Restaurant Manager', 'EmailAddress': 'Ronald_Lewis6777@deavo.com', 'FirstNameLastName': 'Ronald Lewis', 'CreditCard': '7212-0155-5014-8471', 'CreditCardType': 'American Express'}\r\n",
      "{'ID': '154', 'JobTitle': 'Bellman', 'EmailAddress': 'Faith_Seymour3829@twace.org', 'FirstNameLastName': 'Faith Seymour', 'CreditCard': '4170-5186-6887-6558', 'CreditCardType': 'American Express'}\r\n",
      "{'ID': '169', 'JobTitle': 'Assistant Buyer', 'EmailAddress': 'Anthony_Hancock9083@qater.org', 'FirstNameLastName': 'Anthony Hancock', 'CreditCard': '0832-3357-6010-6550', 'CreditCardType': 'American Express'}\r\n",
      "{'ID': '176', 'JobTitle': 'Healthcare Specialist', 'EmailAddress': 'Isabella_Willson5478@nanoff.biz', 'FirstNameLastName': 'Isabella Willson', 'CreditCard': '5177-4868-4623-0384', 'CreditCardType': 'American Express'}\r\n",
      "{'ID': '182', 'JobTitle': 'Pharmacist', 'EmailAddress': 'Stephanie_Darcy3298@bauros.biz', 'FirstNameLastName': 'Stephanie Darcy', 'CreditCard': '0264-4020-5106-5576', 'CreditCardType': 'American Express'}\r\n",
      "{'ID': '199', 'JobTitle': 'Investment  Advisor', 'EmailAddress': 'Ryan_Kennedy5565@corti.com', 'FirstNameLastName': 'Ryan Kennedy', 'CreditCard': '3166-6287-6242-7207', 'CreditCardType': 'American Express'}\r\n"
     ]
    }
   ],
   "source": [
    "import json # import the JSON module\\n\",\n",
    "\n",
    "file = open(\"user_data.json\", \"r\")\n",
    "credit_json = json.load(file)\n",
    "\n",
    "new_file = open('newcredit_csv.csv','w')\n",
    "for i in credit_json:\n",
    "    if i['CreditCardType'] == 'American Express':\n",
    "        new_file.write(str(i)+ '\\n')\n",
    "new_file.close()\n",
    "\n",
    "!cat data/newcredit_csv.csv"
   ]
  },
  {
   "cell_type": "markdown",
   "metadata": {},
   "source": [
    "3\\. Load the file from this url:\n",
    "\n",
    "- https://www.dropbox.com/s/kgshemfgk22iy79/mushrooms_categorized.csv\n",
    "\n",
    "with Pandas. \n",
    "\n",
    "+ explore and print the DataFrame\n",
    "+ calculate, using `groupby()`, the average value of each feature, separately for each class\n",
    "+ save the file in a JSON format."
   ]
  },
  {
   "cell_type": "code",
   "execution_count": 4,
   "metadata": {},
   "outputs": [
    {
     "name": "stdout",
     "output_type": "stream",
     "text": [
      "{\"class\":{\"0\":0,\"1\":1},\"cap-shape\":{\"0\":3.2661596958,\"1\":3.4361593463},\"cap-surface\":{\"0\":1.6159695817,\"1\":2.0551583248},\"cap-color\":{\"0\":4.5817490494,\"1\":4.4218590398},\"bruises\":{\"0\":0.6539923954,\"1\":0.1593462717},\"odor\":{\"0\":4.3346007605,\"1\":3.9407558733},\"gill-attachment\":{\"0\":0.9543726236,\"1\":0.9954034729},\"gill-spacing\":{\"0\":0.2851711027,\"1\":0.0286006129},\"gill-size\":{\"0\":0.0684410646,\"1\":0.5679264556},\"gill-color\":{\"0\":6.6226235741,\"1\":2.8636363636},\"stalk-shape\":{\"0\":0.6159695817,\"1\":0.5148110317},\"stalk-root\":{\"0\":1.4980988593,\"1\":0.6925434116},\"stalk-surface-above-ring\":{\"0\":1.7756653992,\"1\":1.3595505618},\"stalk-surface-below-ring\":{\"0\":1.7984790875,\"1\":1.3942798774},\"stalk-color-above-ring\":{\"0\":6.0988593156,\"1\":5.5127681307},\"stalk-color-below-ring\":{\"0\":6.0646387833,\"1\":5.5045965271},\"veil-type\":{\"0\":0.0,\"1\":0.0},\"veil-color\":{\"0\":1.9315589354,\"1\":2.0020429009},\"ring-number\":{\"0\":1.1254752852,\"1\":1.0091930541},\"ring-type\":{\"0\":3.0076045627,\"1\":1.5229826353},\"spore-print-color\":{\"0\":3.2015209125,\"1\":4.0214504597},\"population\":{\"0\":3.283269962,\"1\":4.0316649642},\"habitat\":{\"0\":1.1482889734,\"1\":1.8958120531}}"
     ]
    }
   ],
   "source": [
    "import csv\n",
    "\n",
    "mushroom_csv = pd.read_csv(\"data/mushrooms_categorized.csv\")\n",
    "\n",
    "mushroom_csv = mushroom_csv.groupby(['class'], as_index=False).mean()\n",
    "mushroom_csv.to_json('data/newmushroom_json.json')\n",
    "\n",
    "!cat data/newmushroom_json.json"
   ]
  },
  {
   "cell_type": "markdown",
   "metadata": {},
   "source": [
    "4\\. Get the binary file named *credit_card.dat* from this address:\n",
    "\n",
    "- https://www.dropbox.com/s/8m0syw2tkul3dap/credit_card.dat\n",
    "\n",
    "and convert the data into the real credit card number, knowing that:\n",
    "- each line corresponds to a credit card number, which consists of 16 characters (which are numbers in the 0-9 range) divided in 4 blocks, with a whitespace between each block\n",
    "- each character is written using a 6 bit binary representation (including the whitespace)\n",
    "- the final 4 bits of each line are a padding used to determine the end of the line, and can be ignored\n",
    "\n",
    "*Hint*: convert the binary numbers to the decimal representation first, and then use the `chr()` function to convert the latter to a char"
   ]
  },
  {
   "cell_type": "code",
   "execution_count": 5,
   "metadata": {},
   "outputs": [
    {
     "name": "stdout",
     "output_type": "stream",
     "text": [
      "Converted Credit Card: 7648 5673 3775 2271\n",
      "\n",
      "Converted Credit Card: 3257 8247 3354 2266\n",
      "\n",
      "Converted Credit Card: 2722 0001 4011 6652\n",
      "\n",
      "Converted Credit Card: 0661 3063 3742 3150\n",
      "\n",
      "Converted Credit Card: 0432 1608 1462 4742\n",
      "\n",
      "Converted Credit Card: 5827 2027 8785 7303\n",
      "\n",
      "Converted Credit Card: 5774 8528 2087 1117\n",
      "\n",
      "Converted Credit Card: 8140 1210 6352 2845\n",
      "\n",
      "Converted Credit Card: 5764 1133 7301 7100\n",
      "\n",
      "Converted Credit Card: 6456 1737 4126 6726\n",
      "\n",
      "Converted Credit Card: 1228 8631 7382 0000\n",
      "\n",
      "Converted Credit Card: 7051 0160 5374 3166\n",
      "\n",
      "Converted Credit Card: 0618 3587 1630 6376\n",
      "\n",
      "Converted Credit Card: 1545 5454 7444 5636\n",
      "\n",
      "Converted Credit Card: 6735 3116 3202 6834\n",
      "\n",
      "Converted Credit Card: 7287 5011 1547 8413\n",
      "\n",
      "Converted Credit Card: 7033 2607 3328 4200\n",
      "\n",
      "Converted Credit Card: 2568 5244 1874 5024\n",
      "\n",
      "Converted Credit Card: 1684 2253 7570 7118\n",
      "\n",
      "Converted Credit Card: 0672 2576 0575 6631\n",
      "\n",
      "Converted Credit Card: 6332 8353 8787 1340\n",
      "\n",
      "Converted Credit Card: 1813 3361 1175 4211\n",
      "\n",
      "Converted Credit Card: 2477 6450 8840 2368\n",
      "\n",
      "Converted Credit Card: 5512 3505 2563 1326\n",
      "\n",
      "Converted Credit Card: 3083 7882 0621 0025\n",
      "\n",
      "Converted Credit Card: 4521 5148 8045 0334\n",
      "\n",
      "Converted Credit Card: 7563 3654 8713 5787\n",
      "\n",
      "Converted Credit Card: 8324 2664 0476 5561\n",
      "\n",
      "Converted Credit Card: 0565 2504 7168 3510\n",
      "\n",
      "Converted Credit Card: 5107 5507 1767 0738\n",
      "\n",
      "Converted Credit Card: 2462 1821 2448 1443\n",
      "\n",
      "Converted Credit Card: 2788 0638 6861 6554\n",
      "\n",
      "Converted Credit Card: 5851 5873 5474 0547\n",
      "\n",
      "Converted Credit Card: 0670 1004 4013 2655\n",
      "\n",
      "Converted Credit Card: 5874 5506 3048 0806\n",
      "\n",
      "Converted Credit Card: 2805 5401 8462 1260\n",
      "\n",
      "Converted Credit Card: 5083 8406 6310 1862\n",
      "\n",
      "Converted Credit Card: 1076 1445 3013 2266\n",
      "\n",
      "Converted Credit Card: 8440 4804 4844 5277\n",
      "\n",
      "Converted Credit Card: 4758 6141 0686 1387\n",
      "\n",
      "Converted Credit Card: 7586 0675 0315 2568\n",
      "\n",
      "Converted Credit Card: 2544 1258 7432 5165\n",
      "\n",
      "Converted Credit Card: 3474 5023 4434 5626\n",
      "\n",
      "Converted Credit Card: 1410 0270 0434 5086\n",
      "\n",
      "Converted Credit Card: 7315 4446 1104 4215\n",
      "\n",
      "Converted Credit Card: 0224 7742 8300 0266\n",
      "\n",
      "Converted Credit Card: 0170 2700 3145 0640\n",
      "\n",
      "Converted Credit Card: 2006 2437 8054 1600\n",
      "\n",
      "Converted Credit Card: 8142 4055 1776 0026\n",
      "\n"
     ]
    }
   ],
   "source": [
    "def convert(a):\n",
    "    decimal = int(a, 2)\n",
    "    return chr(decimal)\n",
    "    \n",
    "def convert_credit(long_number):\n",
    "    creditcard = ''\n",
    "    n = len(long_number)\n",
    "    for inizio in range(0, n, 6):\n",
    "        fine = inizio+6\n",
    "        if fine < n:\n",
    "            credit_dig = convert(long_number[inizio:fine])\n",
    "            creditcard = creditcard+str(credit_dig)\n",
    "    print('Converted Credit Card: '+creditcard+'\\n')\n",
    "\n",
    "with open(\"credit_card.dat\",'rb') as file:\n",
    "    file_content = file.read()\n",
    "    str_file = str(file_content)\n",
    "    len_file = len(file_content)\n",
    "    one_creditcard = ''\n",
    "    for i in range(len_file):\n",
    "        if str_file[i].isdigit():\n",
    "            one_creditcard = one_creditcard+str(str_file[i])\n",
    "        elif len(one_creditcard) > 100:\n",
    "\n",
    "            convert_credit(one_creditcard)\n",
    "            one_creditcard = ''"
   ]
  },
  {
   "cell_type": "markdown",
   "metadata": {},
   "source": [
    "5\\. **Optional**: load the remote file:\n",
    "\n",
    "- https://www.dropbox.com/s/aamg1apjhclecka/regression_generated.csv\n",
    "\n",
    "with Pandas and create a scatter plot with all possible combinations of the following features:\n",
    "    \n",
    "  + features_1\n",
    "  + features_2\n",
    "  + features_3"
   ]
  },
  {
   "cell_type": "code",
   "execution_count": null,
   "metadata": {},
   "outputs": [],
   "source": []
  }
 ],
 "metadata": {
  "kernelspec": {
   "display_name": "Python 3",
   "language": "python",
   "name": "python3"
  },
  "language_info": {
   "codemirror_mode": {
    "name": "ipython",
    "version": 3
   },
   "file_extension": ".py",
   "mimetype": "text/x-python",
   "name": "python",
   "nbconvert_exporter": "python",
   "pygments_lexer": "ipython3",
   "version": "3.8.8"
  }
 },
 "nbformat": 4,
 "nbformat_minor": 2
}
